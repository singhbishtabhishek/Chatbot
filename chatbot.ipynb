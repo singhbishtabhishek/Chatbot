{
  "nbformat": 4,
  "nbformat_minor": 0,
  "metadata": {
    "colab": {
      "provenance": [],
      "gpuType": "T4",
      "authorship_tag": "ABX9TyO7nmlyhjBNMqghf2gqg0Xp",
      "include_colab_link": true
    },
    "kernelspec": {
      "name": "python3",
      "display_name": "Python 3"
    },
    "language_info": {
      "name": "python"
    },
    "accelerator": "GPU",
  "cells": [
    {
      "cell_type": "markdown",
      "metadata": {
        "id": "view-in-github",
        "colab_type": "text"
      },
      "source": [
        "<a href=\"https://colab.research.google.com/github/singhbishtabhishek/Chatbot/blob/main/chatbot.ipynb\" target=\"_parent\"><img src=\"https://colab.research.google.com/assets/colab-badge.svg\" alt=\"Open In Colab\"/></a>"
      ]
    },
    {
      "cell_type": "code",
      "execution_count": 1,
      "metadata": {
        "id": "RgTfsrU1Dl99"
      },
      "outputs": [],
      "source": [
        "#importing libraries\n",
        "import torch\n",
        "from transformers import AutoTokenizer, pipeline #pipeline is a helper from hugging face"
      ]
    },
    {
      "cell_type": "code",
      "source": [
        "model=\"tiiuae/falcon-7b-instruct\"  #setting the hugging model face model to use"
      ],
      "metadata": {
        "id": "LNUzXJwRPjJm"
      },
      "execution_count": 2,
      "outputs": []
    },
    {
      "cell_type": "code",
      "source": [
        "tokenizer=AutoTokenizer.from_pretrained(model)"
      ],
      "metadata": {
        "colab": {
          "base_uri": "https://localhost:8080/",
          "height": 237,
          "referenced_widgets": [
            "0f65d2fd78304fbeb282bfea1067f9b4",
            "882d38df79b24e1ba0ae87401df486b6",
            "b9373709091549c0ba03054cedecdc9a",
            "969d8c8402204d2994f885b09c738609",
            "aca33c9f8cd24220a8a32e56da52fdb5",
            "eb506ff9fb204c259d24c4dd686fc0a1",
            "d92aa9ebefa34d99a5127e5ae3de594b",
            "a6e152c5285546d58bf8cf4e440cefa8",
            "c361cdd4417f40fa94b368eee7b19af5",
            "1a6e4ba57b10485e844b59e6dd24a337",
            "f45737da998e47ce848d5cfe9e84fb2c",
            "f142bffe174347b1aa71b621da2b51bf",
            "35da3a981ec44974a26bd38eaad26764",
            "5649b7ae184d43a5821a820e5e42c925",
            "e68bfefc65eb45f2b9b2bc667419526d",
            "4e0ee12bce4540809f14f6d30eb4aa0c",
            "ed829f444dc64515a72fb542e7934471",
            "6091583a392549079a003d4ce3e5571f",
            "8833ff7419334194a7aea2a2cfbf1621",
            "89a45c1dd03f404984c4ddee90ceed7d",
            "e84a5c69cf284a91803d8bbae8e94b78",
            "19716447d1784d87b6cf63a0e572e642",
            "e88384537e2f4ba78730beac832a886f",
            "3430ce9a4e864fef927929280193350e",
            "9381fb542b23453298fd06119410dc99",
            "5b7ff15f9ce847bfa3c55a69ecaca09e",
            "6e5937de746547e6a2ba426199aca20e",
            "2479e83069f740b1b8bc0cbd8b6afc4a",
            "107b05025df440d8b5df29b9c7b4b710",
            "b63168a20ce4483188d7ce81eecd5970",
            "53a0350596624f1b9eafb1e32974a048",
            "dbd19ea8c9a64fbca9e27848b998cde5",
            "3eeb02d035d94736973d5e62b43ebaaa"
          ]
        },
        "id": "9jqMRET_Ppz0",
        "outputId": "ae72f3f9-f29b-495a-cb0f-396d3d7b5d71"
      },
      "execution_count": 3,
      "outputs": [
        {
          "output_type": "stream",
          "name": "stderr",
          "text": [
            "/usr/local/lib/python3.11/dist-packages/huggingface_hub/utils/_auth.py:94: UserWarning: \n",
            "The secret `HF_TOKEN` does not exist in your Colab secrets.\n",
            "To authenticate with the Hugging Face Hub, create a token in your settings tab (https://huggingface.co/settings/tokens), set it as secret in your Google Colab and restart your session.\n",
            "You will be able to reuse this secret in all of your notebooks.\n",
            "Please note that authentication is recommended but still optional to access public models or datasets.\n",
            "  warnings.warn(\n"
          ]
        },
        {
          "output_type": "display_data",
          "data": {
            "text/plain": [
              "tokenizer_config.json:   0%|          | 0.00/1.13k [00:00<?, ?B/s]"
            ],
            "application/vnd.jupyter.widget-view+json": {
              "version_major": 2,
              "version_minor": 0,
              "model_id": "0f65d2fd78304fbeb282bfea1067f9b4"
            }
          },
          "metadata": {}
        },
        {
          "output_type": "display_data",
          "data": {
            "text/plain": [
              "tokenizer.json:   0%|          | 0.00/2.73M [00:00<?, ?B/s]"
            ],
            "application/vnd.jupyter.widget-view+json": {
              "version_major": 2,
              "version_minor": 0,
              "model_id": "f142bffe174347b1aa71b621da2b51bf"
            }
          },
          "metadata": {}
        },
        {
          "output_type": "display_data",
          "data": {
            "text/plain": [
              "special_tokens_map.json:   0%|          | 0.00/281 [00:00<?, ?B/s]"
            ],
            "application/vnd.jupyter.widget-view+json": {
              "version_major": 2,
              "version_minor": 0,
              "model_id": "e88384537e2f4ba78730beac832a886f"
            }
          },
          "metadata": {}
        }
      ]
    },
    {
      "cell_type": "code",
      "source": [
        "pipeline=pipeline(\n",
        "    \"text-generation\",\n",
        "    model=model,\n",
        "    tokenizer=tokenizer,\n",
        "    torch_dtype=torch.bfloat16,\n",
        "    trust_remote_code=True,\n",
        "    device_map=\"auto\"\n",
        ")"
      ],
      "metadata": {
        "colab": {
          "base_uri": "https://localhost:8080/",
          "height": 499,
          "referenced_widgets": [
            "0e84e5e161ed4a228ef4f8a7edaf45d0",
            "ea42818c1d384a51b5f7cb2545619c46",
            "d50158fd70634b95856847e953110d23",
            "7147d9dcbdfc4849b838408d7f425b46",
            "f58622c6efa44df7bbd8b80bd187aacc",
            "4509c145d1054869a51645f673f1ef6a",
            "2645f15d2c1941c98b654283ed4a22d8",
            "3787b21b1350485a98319e1840e881d8",
            "c98c9c948461462c80eb0afc51b2376b",
            "b9dfa58ea84747a583ec9b7e7ef4d6b2",
            "5de886d23f1f480b937107d211518857",
            "06cf85e318884267a3b2a1f8ee0ecc14",
            "ae5ea345407c4c78bcaf632675317b6b",
            "a05d35d640d94e58b663d6f1da83c794",
            "5282ad7dec14438296868a2332a69230",
            "7368ae8cd08d4e279554404408b279f0",
            "60ec930d20c5466cb4ee12ab1903b358",
            "637a25f1b5004925ae9b680d0b5d87d9",
            "68ea7fce11424d01b33e6cc66e713347",
            "628ad0cfa7a54c95a5fa3ae3ad5b0206",
            "1bfee54a4736423891d0c0a8c7a171e4",
            "ba4512d15a1c4e0d8509691ac7e4f496",
            "af597bcebdd743bc9c7e44cf126a39d1",
            "a18534e98de94dcd9285613987b9a662",
            "fbb70f7d8e2b4dd69bc3b283a1dff522",
            "109833a61a4d4b61aeb9d51193eacfd8",
            "ee70cd3ec9034e4188ac82f4e2670e2c",
            "8e9e4ca156354fdba1e34f59f30d805c",
            "1bbec76806874eb481a76931b1762c1a",
            "cb4d11c9b3d34e75b0de83bb30b2fb77",
            "dcefdd4130fe4660971749dd60134fcd",
            "e3bec83231da4458ba06ce059858cdc5",
            "ae205b87547348b695c27232e4e2d7ea",
            "4af28f8b982448c7b610d6ee92bcde7a",
            "04a250ebd05d44b6b4e08d6ddd9b0477",
            "e62f7ba496ba4648a882cdb284a849d6",
            "92330a41437a46a0a49997d6eb1c3fc0",
            "a65d6749770742f4962867994ce8d09f",
            "f3fc89995dd34cb291fe63ffd643ac13",
            "c9fca457439e4bf78c7ffa6b77734545",
            "8e4efbaafbcc45178feb3f55455f0107",
            "8424d0dac6b74aafa383731742bc225e",
            "74ab6e7d28424b6bb9191c38e18410fe",
            "a34515951fed4056ae37ac7f983f3ebc",
            "01586dbfbba045ceb1796e8c76cb2164",
            "a869ac8e7d934b88864856db88cfc5be",
            "d55af5522c364c3aa11241e7a7656623",
            "0246420032bf49b383be5b2483d2e57d",
            "5e6ed99bacb64ae9bc4f2dfd1a65b3a6",
            "9b81cea17da74aa7854f5b6c61d25265",
            "67fbd296fc6a4f3086eaaafd9f0acf24",
            "4b255303158d46019297ed35751f2d01",
            "c4bb9b76ab414abf8d51faf56d0b3d74",
            "7248fa8e28b949e68829385a7d23e8aa",
            "e5a5aeca49d24804814a5fff5aa961de",
            "77336ccc0dd24e87b89516a9278f9d82",
            "2306601535044dd7898ef35dc8d1ba41",
            "6e9259c92b524cd99355b299401ee59d",
            "f7b0089ee163430a90153c78221b2160",
            "cfaca67cc0c648fdbe81163bd9f19834",
            "4cc1e9ce97314d0f83fe2f53c92abb50",
            "278c8002eb33432dbef4295b9d2658f3",
            "cfb0f32609da46448ca187f250c91414",
            "030681af7525414c971501df5616b637",
            "c4da13be532d4b5d80f62466e3688c74",
            "396a94df2e0944d28923db8b2708e6c0",
            "44ddf2aeee224dcf8ccceafb74bd8407",
            "482d04e304ca4ed0afbc285a86b7b5ca",
            "893c6afde1214de581c2133d945f3d27",
            "9d895923793540d8a084939ad318b3c5",
            "edec96767f7b44c3909557fa99f25833",
            "92ec6f757687402eb90b9817b76b7dbe",
            "08b1c380de1041f3939d0e2a4ae0e1fa",
            "5e433eb0dbf440d2b3eb395bdf258f7f",
            "14171f113c9d42e5a59f925e23d1f0e5",
            "e59f68b93ed54fb198fec423e239ee64",
            "badaafd3200a4f2f8067874a496d0366",
            "46258c292f894bbab41f707d69a69f19",
            "e562169b45a441f3acbffbb10daa88da",
            "a367575627004b31bdf5ffe832d7d413",
            "1168452685aa43bb8d4202080d0eb479",
            "171618b0adac47bc9b077ca4cfb928b5",
            "9db3c45b4c0f482cbfe9b8dfffddefe4",
            "f5060833b82c45d1af0db3c805e6991b",
            "1a3cb8d6141543d58a2092128df8a29e",
            "436eb991e64e428687649445a5025d03",
            "d6e36ff05ce445ca8beac0ce39f5122b",
            "f90811c677b54242b9696a437cf07ba0",
            "2add606b0f09463e9a8ecc255ce2f839",
            "0d915fa7f68c4c6d970646bb7bd9363c",
            "2174da151421485186cb0d31efb1cbf3",
            "7d8ef61e08734568a90ceb59f5d70a38",
            "f0ec62794dfe42b38bc03bb7c42af5c3",
            "4b3322fbbaf24fe091dfa7cd81ca1fdd",
            "826c721294434a7bad70e706cf6324ae",
            "da9afff92ba94baa9692f19a78e2c4df",
            "abbad994f4e34d819c49a05db1b61fa6",
            "04b2c91cb1d44520902630c3cb040fa7",
            "54d8fa8b545444dd936087db2ae7f27e"
          ]
        },
        "id": "JLdi-vNgZtCL",
        "outputId": "955f88ce-c1aa-479b-8f9f-cbdf134b6920"
      },
      "execution_count": 4,
      "outputs": [
        {
          "output_type": "display_data",
          "data": {
            "text/plain": [
              "config.json:   0%|          | 0.00/1.05k [00:00<?, ?B/s]"
            ],
            "application/vnd.jupyter.widget-view+json": {
              "version_major": 2,
              "version_minor": 0,
              "model_id": "0e84e5e161ed4a228ef4f8a7edaf45d0"
            }
          },
          "metadata": {}
        },
        {
          "output_type": "display_data",
          "data": {
            "text/plain": [
              "configuration_falcon.py:   0%|          | 0.00/7.16k [00:00<?, ?B/s]"
            ],
            "application/vnd.jupyter.widget-view+json": {
              "version_major": 2,
              "version_minor": 0,
              "model_id": "06cf85e318884267a3b2a1f8ee0ecc14"
            }
          },
          "metadata": {}
        },
        {
          "output_type": "stream",
          "name": "stderr",
          "text": [
            "A new version of the following files was downloaded from https://huggingface.co/tiiuae/falcon-7b-instruct:\n",
            "- configuration_falcon.py\n",
            ". Make sure to double-check they do not contain any added malicious code. To avoid downloading new versions of the code file, you can pin a revision.\n",
            "WARNING:transformers_modules.tiiuae.falcon-7b-instruct.8782b5c5d8c9290412416618f36a133653e85285.configuration_falcon:\n",
            "WARNING: You are currently loading Falcon using legacy code contained in the model repository. Falcon has now been fully ported into the Hugging Face transformers library. For the most up-to-date and high-performance version of the Falcon model code, please update to the latest version of transformers and then load the model without the trust_remote_code=True argument.\n",
            "\n"
          ]
        },
        {
          "output_type": "display_data",
          "data": {
            "text/plain": [
              "modeling_falcon.py:   0%|          | 0.00/56.9k [00:00<?, ?B/s]"
            ],
            "application/vnd.jupyter.widget-view+json": {
              "version_major": 2,
              "version_minor": 0,
              "model_id": "af597bcebdd743bc9c7e44cf126a39d1"
            }
          },
          "metadata": {}
        },
        {
          "output_type": "stream",
          "name": "stderr",
          "text": [
            "A new version of the following files was downloaded from https://huggingface.co/tiiuae/falcon-7b-instruct:\n",
            "- modeling_falcon.py\n",
            ". Make sure to double-check they do not contain any added malicious code. To avoid downloading new versions of the code file, you can pin a revision.\n"
          ]
        },
        {
          "output_type": "display_data",
          "data": {
            "text/plain": [
              "model.safetensors.index.json:   0%|          | 0.00/17.7k [00:00<?, ?B/s]"
            ],
            "application/vnd.jupyter.widget-view+json": {
              "version_major": 2,
              "version_minor": 0,
              "model_id": "4af28f8b982448c7b610d6ee92bcde7a"
            }
          },
          "metadata": {}
        },
        {
          "output_type": "display_data",
          "data": {
            "text/plain": [
              "Fetching 2 files:   0%|          | 0/2 [00:00<?, ?it/s]"
            ],
            "application/vnd.jupyter.widget-view+json": {
              "version_major": 2,
              "version_minor": 0,
              "model_id": "01586dbfbba045ceb1796e8c76cb2164"
            }
          },
          "metadata": {}
        },
        {
          "output_type": "display_data",
          "data": {
            "text/plain": [
              "model-00001-of-00002.safetensors:   0%|          | 0.00/9.95G [00:00<?, ?B/s]"
            ],
            "application/vnd.jupyter.widget-view+json": {
              "version_major": 2,
              "version_minor": 0,
              "model_id": "77336ccc0dd24e87b89516a9278f9d82"
            }
          },
          "metadata": {}
        },
        {
          "output_type": "display_data",
          "data": {
            "text/plain": [
              "model-00002-of-00002.safetensors:   0%|          | 0.00/4.48G [00:00<?, ?B/s]"
            ],
            "application/vnd.jupyter.widget-view+json": {
              "version_major": 2,
              "version_minor": 0,
              "model_id": "44ddf2aeee224dcf8ccceafb74bd8407"
            }
          },
          "metadata": {}
        },
        {
          "output_type": "display_data",
          "data": {
            "text/plain": [
              "Loading checkpoint shards:   0%|          | 0/2 [00:00<?, ?it/s]"
            ],
            "application/vnd.jupyter.widget-view+json": {
              "version_major": 2,
              "version_minor": 0,
              "model_id": "46258c292f894bbab41f707d69a69f19"
            }
          },
          "metadata": {}
        },
        {
          "output_type": "display_data",
          "data": {
            "text/plain": [
              "generation_config.json:   0%|          | 0.00/117 [00:00<?, ?B/s]"
            ],
            "application/vnd.jupyter.widget-view+json": {
              "version_major": 2,
              "version_minor": 0,
              "model_id": "2add606b0f09463e9a8ecc255ce2f839"
            }
          },
          "metadata": {}
        },
        {
          "output_type": "stream",
          "name": "stderr",
          "text": [
            "Device set to use cuda:0\n"
          ]
        }
      ]
    },
    {
      "cell_type": "code",
      "source": [
        "newline_token=tokenizer.encode(\"\\n\")[0]\n",
        "\n",
        "#setting names for chat\n",
        "my_name=\"Bot\"\n",
        "your_name=\"user\"\n",
        "dialog=[]   #list to keep track of conversation history\n",
        "\n",
        "while True:\n",
        "  user_input = input(\"> \")\n",
        "  if user_input.lower() in [\"exit\", \"quit\", \"bye\"]:\n",
        "    print(\"Goodbye!\")\n",
        "    break\n",
        "  dialog.append(f\"{my_name}: {user_input}\")\n",
        "  prompt = \"\\n\".join(dialog) + f\"\\n{your_name}:\"\n",
        "  sequences=pipeline(\n",
        "    prompt,\n",
        "\n",
        "    do_sample=True,\n",
        "    top_k=10,\n",
        "    num_return_sequences=1,\n",
        "    return_full_text=False,\n",
        "    eos_token_id=newline_token,\n",
        "    pad_token_id=tokenizer.eos_token_id,\n",
        "  )\n",
        "  print(sequences[0][\"generated_text\"])\n",
        "  dialog.append(f\"{your_name}: {sequences[0]['generated_text']}\")"
      ],
      "metadata": {
        "colab": {
          "base_uri": "https://localhost:8080/"
        },
        "id": "_lx3Z5gKZlyd",
        "outputId": "35deadb0-fc44-42b4-8eff-1d79b174034e"
      },
      "execution_count": 10,
      "outputs": [
        {
          "output_type": "stream",
          "name": "stdout",
          "text": [
            "> what is capital of india\n",
            " The capital of India is New Delhi.\n",
            "\n",
            "> what is the largest mammal on earth?\n",
            "  The Blue Whale.\n",
            "\n",
            "> bye\n",
            "Goodbye!\n"
          ]
        }
      ]
    }
  ]
}
